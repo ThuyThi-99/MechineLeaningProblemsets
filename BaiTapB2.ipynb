{
 "cells": [
  {
   "cell_type": "code",
   "execution_count": null,
   "metadata": {},
   "outputs": [],
   "source": [
    "#SQL"
   ]
  },
  {
   "cell_type": "code",
   "execution_count": null,
   "metadata": {},
   "outputs": [],
   "source": [
    "#task1\n",
    " seclect * from CITY where ID = 1661;"
   ]
  },
  {
   "cell_type": "code",
   "execution_count": null,
   "metadata": {},
   "outputs": [],
   "source": [
    "#task2\n",
    "select * from CITY where COUNTRYCODE = 'USA' and POPULATION > 100000;"
   ]
  },
  {
   "cell_type": "code",
   "execution_count": null,
   "metadata": {},
   "outputs": [],
   "source": [
    "#task3\n",
    "select NAME from CITY where COUNTRYCODE = 'JPN';"
   ]
  },
  {
   "cell_type": "code",
   "execution_count": null,
   "metadata": {},
   "outputs": [],
   "source": [
    "#task4\n",
    "select CITY, STATE from STATION;"
   ]
  },
  {
   "cell_type": "code",
   "execution_count": null,
   "metadata": {},
   "outputs": [],
   "source": [
    "#task5\n",
    "select distinct CITY from STATION where MOD(ID, 2) = 0;"
   ]
  },
  {
   "cell_type": "code",
   "execution_count": null,
   "metadata": {},
   "outputs": [],
   "source": [
    "#task6\n",
    "select count(CITY) - count(distinct CITY) from STATION;"
   ]
  },
  {
   "cell_type": "code",
   "execution_count": null,
   "metadata": {},
   "outputs": [],
   "source": [
    "#task7\n",
    "select * from (select distinct CTTY, length(CITY) from STATION order by length(CITY) asc, CITY asc) where rownum = 1;\n",
    "union\n",
    "select * from (select distinct CTTY, length(CITY) from STATION order by length(CITY) desc, CITY asc) where rownum = 1;"
   ]
  },
  {
   "cell_type": "code",
   "execution_count": null,
   "metadata": {},
   "outputs": [],
   "source": [
    "#task8\n",
    "select distinct CITY from STATION where CITY like 'a%' or CITY like \"e%\" or CITY like 'o%' or CITY like 'i%' or CITY like 'u%';"
   ]
  },
  {
   "cell_type": "code",
   "execution_count": null,
   "metadata": {},
   "outputs": [],
   "source": [
    "#task9\n",
    "select distinct CITY from STATION where CITY like 'a%' or CITY like \"e%\" or CITY like 'o%' or CITY like 'i%' or CITY like 'u%';"
   ]
  },
  {
   "cell_type": "code",
   "execution_count": null,
   "metadata": {},
   "outputs": [],
   "source": [
    "#task10\n",
    "select distinct CITY from(select distinct CITY from STATION where CITY like 'a%' or CITY like \"e%\" or CITY like 'o%' or CITY like 'i%' or CITY like 'u%') where CITY like 'a%' or CITY like 'e%' or CITY like 'i%' or CITY like 'o%' or CITY like 'u%';"
   ]
  },
  {
   "cell_type": "code",
   "execution_count": null,
   "metadata": {},
   "outputs": [],
   "source": []
  },
  {
   "cell_type": "code",
   "execution_count": null,
   "metadata": {},
   "outputs": [],
   "source": [
    "#PYTHON"
   ]
  },
  {
   "cell_type": "code",
   "execution_count": null,
   "metadata": {},
   "outputs": [],
   "source": [
    "#Task1\n",
    "if __name__ == '__main__':\n",
    "    n = int(input())\n",
    "    # your code here\n",
    "    if n % 2 == 1:\n",
    "      print(\"Weird\")\n",
    "    elif n % 2 == 0 and 2 <= n <= 5:\n",
    "      print(\" Not WEIrd\")\n",
    "    elif n % 2 == 0 and 6 <= n <= 20: \n",
    "      print(\"Weird\")\n",
    "    else:\n",
    "        print(\"Not Weird\")"
   ]
  },
  {
   "cell_type": "code",
   "execution_count": null,
   "metadata": {},
   "outputs": [],
   "source": [
    "#Task2\n",
    "if __name__ == '__main__':\n",
    "    a = int(input())\n",
    "    b = int(input())\n",
    "    # your code here\n",
    "    sum = a + b\n",
    "    print(sum)\n",
    "    diff = a - b\n",
    "    print(diff)\n",
    "    pro = a*b\n",
    "    print(pro)\n"
   ]
  },
  {
   "cell_type": "code",
   "execution_count": null,
   "metadata": {},
   "outputs": [],
   "source": [
    "#Task3\n",
    "if __name__ == '__main__':\n",
    "    n = int(input())\n",
    "    # your code here\n",
    "    for i in range(n):\n",
    "      print(i**2)"
   ]
  },
  {
   "cell_type": "code",
   "execution_count": null,
   "metadata": {},
   "outputs": [],
   "source": [
    "#Task4\n",
    "def is_leap(year):\n",
    "  leap = Fales\n",
    "  # your code here\n",
    "  if year % 400 == 0:\n",
    "    leap = True\n",
    "  elif year % 100 == 0:\n",
    "    leap = False\n",
    "  elif year % 4\n",
    "    leap = True\n",
    "  return leap\n",
    "year = int(raw_input())\n",
    "print(is_leap(year)"
   ]
  },
  {
   "cell_type": "code",
   "execution_count": null,
   "metadata": {},
   "outputs": [],
   "source": [
    "#Task5\n",
    "if __name__ == '__main__':\n",
    "  n = int(input())\n",
    "  # your code here\n",
    "  arr = map(int, input().split())\n",
    "  arr = list(set(list(arr)))\n",
    "  ar = len(arr)\n",
    "  arr = sorted(arr)\n",
    "  print(arr[ar-2])"
   ]
  }
 ],
 "metadata": {
  "kernelspec": {
   "display_name": "Python 3",
   "language": "python",
   "name": "python3"
  },
  "language_info": {
   "codemirror_mode": {
    "name": "ipython",
    "version": 3
   },
   "file_extension": ".py",
   "mimetype": "text/x-python",
   "name": "python",
   "nbconvert_exporter": "python",
   "pygments_lexer": "ipython3",
   "version": "3.6.5"
  }
 },
 "nbformat": 4,
 "nbformat_minor": 2
}
